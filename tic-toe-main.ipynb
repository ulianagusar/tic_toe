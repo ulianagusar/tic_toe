{
 "cells": [
  {
   "cell_type": "code",
   "execution_count": null,
   "metadata": {
    "colab": {
     "base_uri": "https://localhost:8080/",
     "height": 452
    },
    "executionInfo": {
     "elapsed": 815,
     "status": "ok",
     "timestamp": 1693728753287,
     "user": {
      "displayName": "Уляна Гусар",
      "userId": "01532030918306138983"
     },
     "user_tz": -180
    },
    "id": "cgWqD_OEuJ37",
    "outputId": "48ba70c0-2a4c-4b44-d9f2-03a85174e40f"
   },
   "outputs": [
    {
     "data": {
      "text/plain": [
       "<matplotlib.image.AxesImage at 0x7ed29be10e20>"
      ]
     },
     "execution_count": 17,
     "metadata": {},
     "output_type": "execute_result"
    },
    {
     "data": {
      "image/png": "[encoded data removed]",
      "text/plain": [
       "<Figure size 640x480 with 1 Axes>"
      ]
     },
     "metadata": {},
     "output_type": "display_data"
    }
   ],
   "source": [
    "from PIL import Image, ImageDraw\n",
    "import numpy as np\n",
    "import matplotlib.pyplot as plt\n",
    "from shapely.geometry import LineString\n",
    "from tensorflow.keras.applications import VGG16\n",
    "from tensorflow.keras.layers import GlobalAveragePooling2D, Dense, Dropout, Reshape\n",
    "from tensorflow.keras.models import Model\n",
    "from tensorflow.keras.optimizers import Adam\n",
    "from tensorflow.keras.regularizers import l2\n",
    "\n",
    "def generate_image():\n",
    "    image = Image.new(\"RGB\", (256, 256), \"black\")\n",
    "    draw = ImageDraw.Draw(image)\n",
    "\n",
    "    x1 = np.random.randint(50, 110)\n",
    "    y1 = np.random.randint(10, 50)\n",
    "\n",
    "    x2 = np.random.randint(140, 200)\n",
    "    y2 = np.random.randint(10, 50)\n",
    "\n",
    "    x3 = np.random.randint(50, 110)\n",
    "    y3 = np.random.randint(200, 256)\n",
    "\n",
    "    x4 = np.random.randint(140, 200)\n",
    "    y4 = np.random.randint(200, 256)\n",
    "\n",
    "    x5 = np.random.randint(10, 50)\n",
    "    y5 = np.random.randint(50, 110)\n",
    "\n",
    "    x6 = np.random.randint(10, 50)\n",
    "    y6 = np.random.randint(140, 200)\n",
    "\n",
    "    x7 = np.random.randint(200, 256)\n",
    "    y7 = np.random.randint(50, 110)\n",
    "\n",
    "    x8 = np.random.randint(200, 256)\n",
    "    y8 = np.random.randint(140, 200)\n",
    "\n",
    "    pair1 = (x1, y1)\n",
    "    pair2 = (x2, y2)\n",
    "    pair3 = (x3, y3)\n",
    "    pair4 = (x4, y4)\n",
    "    pair5 = (x5, y5)\n",
    "    pair6 = (x6, y6)\n",
    "    pair7 = (x7, y7)\n",
    "    pair8 = (x8, y8)\n",
    "\n",
    "    draw.line([pair1, pair3], fill=\"white\", width=2)\n",
    "    draw.line([pair2, pair4], fill=\"white\", width=2)\n",
    "    draw.line([pair5, pair7], fill=\"white\", width=2)\n",
    "    draw.line([pair6, pair8], fill=\"white\", width=2)\n",
    "\n",
    "    line1 = LineString([pair1,  pair3])\n",
    "    line2 = LineString([pair5, pair7])\n",
    "    line3 = LineString([pair2, pair4])\n",
    "    line4 = LineString([pair6, pair8])\n",
    "\n",
    "    int_pt1 = line1.intersection(line2)\n",
    "    point_of_intersection1 = int_pt1.x, int_pt1.y\n",
    "\n",
    "    int_pt2 = line1.intersection(line4)\n",
    "    point_of_intersection2 = int_pt2.x, int_pt2.y\n",
    "\n",
    "    int_pt3 = line3.intersection(line2)\n",
    "    point_of_intersection3 = int_pt3.x, int_pt3.y\n",
    "\n",
    "    int_pt4 = line3.intersection(line4)\n",
    "    point_of_intersection4 = int_pt4.x, int_pt4.y\n",
    "\n",
    "    # point_corner1 = (((x1+x5)/2)/256, ((y1+y5)/2)/256)\n",
    "    # point_corner2 = (((x2+x7)/2)/256, ((y2+y7)/2)/256)\n",
    "    # point_corner3 = (((x8+x4)/2)/256, ((y4+y8)/2)/256)\n",
    "    # point_corner4 = (((x6+x3)/2)/256, ((y3+y6)/2)/256)\n",
    "\n",
    "    # line2_1 = LineString([pair1, (int_pt3.x, int_pt3.y)])\n",
    "    # line2_2 = LineString([(int_pt1.x, int_pt1.y), pair2])\n",
    "    # int_pt_2 = line2_1.intersection(line2_2)\n",
    "    # point_of_intersection_2 = int_pt_2.x/256, int_pt_2.y/256\n",
    "\n",
    "\n",
    "    # line4_1 = LineString([pair8, (int_pt3.x, int_pt3.y)])\n",
    "    # line4_2 = LineString([(int_pt4.x, int_pt4.y), pair7])\n",
    "    # int_pt_4 = line4_1.intersection(line4_2)\n",
    "    # point_of_intersection_4 = int_pt_4.x/256, int_pt_4.y/256\n",
    "\n",
    "\n",
    "    # line6_1 = LineString([pair3, (int_pt4.x, int_pt4.y)])\n",
    "    # line6_2 = LineString([(int_pt2.x, int_pt2.y), pair4])\n",
    "    # int_pt_6 = line6_1.intersection(line6_2)\n",
    "    # point_of_intersection_6 = int_pt_6.x/256, int_pt_6.y/256\n",
    "\n",
    "    # line8_1 = LineString([pair5, (int_pt4.x, int_pt4.y)])\n",
    "    # line8_2 = LineString([(int_pt1.x, int_pt1.y), pair6])\n",
    "    # int_pt_8 = line8_1.intersection(line8_2)\n",
    "    # point_of_intersection_8 = int_pt_8.x/256, int_pt_8.y/256\n",
    "\n",
    "\n",
    "    # line9_1 = LineString([(int_pt3.x, int_pt3.y), (int_pt2.x, int_pt2.y)])\n",
    "    # line9_2 = LineString([(int_pt1.x, int_pt1.y), (int_pt4.x, int_pt4.y)])\n",
    "    # int_pt_9 = line9_1.intersection(line9_2)\n",
    "    # point_of_intersection_9 = int_pt_9.x/256, int_pt_9.y/256\n",
    "\n",
    "    return np.asarray(image), [   int_pt1.x/256, int_pt1.y/256\n",
    ",int_pt2.x/256, int_pt2.y/256,int_pt3.x/256, int_pt3.y/256, int_pt4.x/256, int_pt4.y/256]\n",
    "\n",
    "def synthetic_gen_with_labels(batch_size=64):\n",
    "    while True:\n",
    "        X = np.zeros((batch_size, 256, 256, 3))\n",
    "        Y = np.zeros((batch_size, 8)) \n",
    "\n",
    "        for i in range(batch_size):\n",
    "            image, labels = generate_image()\n",
    "            X[i] = image\n",
    "            Y[i] = labels\n",
    "\n",
    "        yield X, Y\n",
    "\n",
    "\n",
    "x, y = next(synthetic_gen_with_labels())\n",
    "plt.imshow(x[0])"
   ]
  },
  {
   "cell_type": "code",
   "execution_count": null,
   "metadata": {
    "colab": {
     "base_uri": "https://localhost:8080/"
    },
    "executionInfo": {
     "elapsed": 962,
     "status": "ok",
     "timestamp": 1693728776202,
     "user": {
      "displayName": "Уляна Гусар",
      "userId": "01532030918306138983"
     },
     "user_tz": -180
    },
    "id": "_Aii0oxUuWhy",
    "outputId": "5ebc965f-9ef3-44d5-a01e-92004e40c0c0"
   },
   "outputs": [
    {
     "name": "stderr",
     "output_type": "stream",
     "text": [
      "WARNING:absl:`lr` is deprecated in Keras optimizer, please use `learning_rate` or use the legacy optimizer, e.g.,tf.keras.optimizers.legacy.Adam.\n"
     ]
    },
    {
     "name": "stdout",
     "output_type": "stream",
     "text": [
      "Model: \"model_5\"\n",
      "_________________________________________________________________\n",
      " Layer (type)                Output Shape              Param #   \n",
      "=================================================================\n",
      " input_8 (InputLayer)        [(None, 256, 256, 3)]     0         \n",
      "                                                                 \n",
      " block1_conv1 (Conv2D)       (None, 256, 256, 64)      1792      \n",
      "                                                                 \n",
      " block1_conv2 (Conv2D)       (None, 256, 256, 64)      36928     \n",
      "                                                                 \n",
      " block1_pool (MaxPooling2D)  (None, 128, 128, 64)      0         \n",
      "                                                                 \n",
      " global_average_pooling2d_3   (None, 64)               0         \n",
      " (GlobalAveragePooling2D)                                        \n",
      "                                                                 \n",
      " dropout_6 (Dropout)         (None, 64)                0         \n",
      "                                                                 \n",
      " dense_10 (Dense)            (None, 32)                2080      \n",
      "                                                                 \n",
      " dense_11 (Dense)            (None, 18)                594       \n",
      "                                                                 \n",
      " reshape_5 (Reshape)         (None, 9, 2)              0         \n",
      "                                                                 \n",
      "=================================================================\n",
      "Total params: 41,394\n",
      "Trainable params: 2,674\n",
      "Non-trainable params: 38,720\n",
      "_________________________________________________________________\n"
     ]
    }
   ],
   "source": [
    "\n",
    "\n",
    "base_model = VGG16(input_shape=[256, 256, 3], include_top=False, weights='imagenet')\n",
    "\n",
    "\n",
    "selected_layers = [layer for layer in base_model.layers if 'block1' in layer.name]\n",
    "\n",
    "\n",
    "input = base_model.input\n",
    "x = input\n",
    "for layer in selected_layers:\n",
    "    x = layer(x)\n",
    "\n",
    "\n",
    "x = GlobalAveragePooling2D()(x)  \n",
    "x = Dropout(0.5)(x)\n",
    "x = Dense(32, activation='relu', kernel_regularizer=l2(0.01))(x)  \n",
    "x = Dense(18, activation='sigmoid')(x)\n",
    "x = Reshape((9, 2))(x)\n",
    "\n",
    "\n",
    "model1 = Model(inputs=input, outputs=x)\n",
    "\n",
    "for layer in selected_layers:\n",
    "    layer.trainable = False\n",
    "\n",
    "\n",
    "model1.compile(loss='mean_squared_error', optimizer=Adam(lr=0.001))\n",
    "model1.summary()\n"
   ]
  },
  {
   "cell_type": "code",
   "execution_count": null,
   "metadata": {
    "colab": {
     "base_uri": "https://localhost:8080/"
    },
    "executionInfo": {
     "elapsed": 3803477,
     "status": "ok",
     "timestamp": 1693732582989,
     "user": {
      "displayName": "Уляна Гусар",
      "userId": "01532030918306138983"
     },
     "user_tz": -180
    },
    "id": "PMPN1vbTwDjH",
    "outputId": "62ac81e9-db78-41e4-b84e-b1cf9f4dda5c"
   },
   "outputs": [
    {
     "name": "stdout",
     "output_type": "stream",
     "text": [
      "Epoch 1/30\n",
      "16/16 [==============================] - 131s 8s/step - loss: 0.5419\n",
      "Epoch 2/30\n",
      "16/16 [==============================] - 126s 8s/step - loss: 0.4204\n",
      "Epoch 3/30\n",
      "16/16 [==============================] - 127s 8s/step - loss: 0.3395\n",
      "Epoch 4/30\n",
      "16/16 [==============================] - 127s 8s/step - loss: 0.2780\n",
      "Epoch 5/30\n",
      "16/16 [==============================] - 127s 8s/step - loss: 0.2296\n",
      "Epoch 6/30\n",
      "16/16 [==============================] - 127s 8s/step - loss: 0.1877\n",
      "Epoch 7/30\n",
      "16/16 [==============================] - 128s 8s/step - loss: 0.1530\n",
      "Epoch 8/30\n",
      "16/16 [==============================] - 126s 8s/step - loss: 0.1240\n",
      "Epoch 9/30\n",
      "16/16 [==============================] - 129s 8s/step - loss: 0.1008\n",
      "Epoch 10/30\n",
      "16/16 [==============================] - 127s 8s/step - loss: 0.0814\n",
      "Epoch 11/30\n",
      "16/16 [==============================] - 127s 8s/step - loss: 0.0656\n",
      "Epoch 12/30\n",
      "16/16 [==============================] - 129s 8s/step - loss: 0.0526\n",
      "Epoch 13/30\n",
      "16/16 [==============================] - 127s 8s/step - loss: 0.0426\n",
      "Epoch 14/30\n",
      "16/16 [==============================] - 127s 8s/step - loss: 0.0344\n",
      "Epoch 15/30\n",
      "16/16 [==============================] - 125s 8s/step - loss: 0.0280\n",
      "Epoch 16/30\n",
      "16/16 [==============================] - 125s 8s/step - loss: 0.0229\n",
      "Epoch 17/30\n",
      "16/16 [==============================] - 124s 8s/step - loss: 0.0187\n",
      "Epoch 18/30\n",
      "16/16 [==============================] - 124s 8s/step - loss: 0.0154\n",
      "Epoch 19/30\n",
      "16/16 [==============================] - 124s 8s/step - loss: 0.0128\n",
      "Epoch 20/30\n",
      "16/16 [==============================] - 123s 8s/step - loss: 0.0107\n",
      "Epoch 21/30\n",
      "16/16 [==============================] - 126s 8s/step - loss: 0.0091\n",
      "Epoch 22/30\n",
      "16/16 [==============================] - 124s 8s/step - loss: 0.0078\n",
      "Epoch 23/30\n",
      "16/16 [==============================] - 123s 8s/step - loss: 0.0068\n",
      "Epoch 24/30\n",
      "16/16 [==============================] - 125s 8s/step - loss: 0.0060\n",
      "Epoch 25/30\n",
      "16/16 [==============================] - 124s 8s/step - loss: 0.0054\n",
      "Epoch 26/30\n",
      "16/16 [==============================] - 124s 8s/step - loss: 0.0049\n",
      "Epoch 27/30\n",
      "16/16 [==============================] - 125s 8s/step - loss: 0.0045\n",
      "Epoch 28/30\n",
      "16/16 [==============================] - 124s 8s/step - loss: 0.0041\n",
      "Epoch 29/30\n",
      "16/16 [==============================] - 125s 8s/step - loss: 0.0039\n",
      "Epoch 30/30\n",
      "16/16 [==============================] - 127s 8s/step - loss: 0.0037\n"
     ]
    },
    {
     "data": {
      "text/plain": [
       "<keras.callbacks.History at 0x7ed2d4a4ada0>"
      ]
     },
     "execution_count": 20,
     "metadata": {},
     "output_type": "execute_result"
    }
   ],
   "source": [
    "EPOCH_SIZE = 16\n",
    "model1.fit(synthetic_gen_with_labels(),steps_per_epoch=EPOCH_SIZE,epochs=30)"
   ]
  },
  {
   "cell_type": "code",
   "execution_count": null,
   "metadata": {
    "colab": {
     "base_uri": "https://localhost:8080/",
     "height": 452
    },
    "executionInfo": {
     "elapsed": 9453,
     "status": "ok",
     "timestamp": 1693733000907,
     "user": {
      "displayName": "Уляна Гусар",
      "userId": "01532030918306138983"
     },
     "user_tz": -180
    },
    "id": "C9D-4T7eEmti",
    "outputId": "9e7548c3-c874-49b4-8a12-5263ee1ba9c5"
   },
   "outputs": [
    {
     "name": "stdout",
     "output_type": "stream",
     "text": [
      "2/2 [==============================] - 8s 5s/step\n"
     ]
    },
    {
     "data": {
      "image/png": "[encoded data removed]",
      "text/plain": [
       "<Figure size 640x480 with 1 Axes>"
      ]
     },
     "metadata": {},
     "output_type": "display_data"
    }
   ],
   "source": [
    "from matplotlib.patches import Rectangle\n",
    "\n",
    "\n",
    "\n",
    "x, _ = next(synthetic_gen_with_labels())\n",
    "\n",
    "pred = model1.predict(x)\n",
    "\n",
    "im = x[0]\n",
    "p = pred[0]\n",
    "\n",
    "fig, ax = plt.subplots(1)\n",
    "ax.imshow(im)\n",
    "for i in range(9):\n",
    "\n",
    "    ax.scatter(p[i][0]*256 , p[i][1]*256 , color='r', marker='o', s=50)  \n",
    "\n",
    "plt.show()\n"
   ]
  },
  {
   "cell_type": "code",
   "execution_count": null,
   "metadata": {
    "colab": {
     "base_uri": "https://localhost:8080/"
    },
    "executionInfo": {
     "elapsed": 22,
     "status": "ok",
     "timestamp": 1693728360907,
     "user": {
      "displayName": "Уляна Гусар",
      "userId": "01532030918306138983"
     },
     "user_tz": -180
    },
    "id": "WnONbnXCEyJX",
    "outputId": "85f81bed-0191-4cf3-be7b-1a8ee3f33eca"
   },
   "outputs": [
    {
     "data": {
      "text/plain": [
       "array([[0.        , 0.04335799],\n",
       "       [0.43057925, 0.16919458],\n",
       "       [0.6713538 , 0.07357256],\n",
       "       [0.0917459 , 0.36162525],\n",
       "       [0.4672779 , 0.12367339],\n",
       "       [0.67416245, 0.37010863],\n",
       "       [0.        , 0.5799687 ],\n",
       "       [0.44404596, 0.5989811 ],\n",
       "       [0.5803606 , 0.63411975]], dtype=float32)"
      ]
     },
     "execution_count": 14,
     "metadata": {},
     "output_type": "execute_result"
    }
   ],
   "source": [
    "p"
   ]
  }
 ],
 "metadata": {
  "colab": {
   "authorship_tag": "ABX9TyNAnr/Syt/jX2jTdgI6WCGg",
   "provenance": []
  },
  "kernelspec": {
   "display_name": "Python 3",
   "name": "python3"
  },
  "language_info": {
   "name": "python"
  }
 },
 "nbformat": 4,
 "nbformat_minor": 0
}
